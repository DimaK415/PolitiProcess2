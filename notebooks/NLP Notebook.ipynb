{
 "cells": [
  {
   "cell_type": "code",
   "execution_count": 1,
   "metadata": {},
   "outputs": [],
   "source": [
    "# from PyQt5.uic import loadUiType\n",
    "# from PyQt5 import QtWidgets\n",
    "# from PyQt5 import QtCore, QtGui\n",
    "import textacy\n",
    "import spacy\n",
    "from spacy import displacy\n",
    "\n",
    "from Paramerator import Parameters\n",
    "from Mongo import Connect\n",
    "from Scraper import Scraper\n",
    "from Processing import Processing\n",
    "from Topic_Modeler import Topic_Modeler\n",
    "from Stop_Handler import Stop_Handler"
   ]
  },
  {
   "cell_type": "code",
   "execution_count": 2,
   "metadata": {},
   "outputs": [],
   "source": [
    "p = Parameters()\n",
    "p.loader('save/params/default.params', 'params')\n",
    "p.loader('dat/scraper.cfg', 'scraper')"
   ]
  },
  {
   "cell_type": "code",
   "execution_count": null,
   "metadata": {},
   "outputs": [],
   "source": []
  },
  {
   "cell_type": "code",
   "execution_count": 3,
   "metadata": {},
   "outputs": [],
   "source": [
    "connection = Connect(p.params, p.scraper)"
   ]
  },
  {
   "cell_type": "code",
   "execution_count": 4,
   "metadata": {
    "scrolled": false
   },
   "outputs": [],
   "source": [
    "connection.query()"
   ]
  },
  {
   "cell_type": "code",
   "execution_count": 5,
   "metadata": {},
   "outputs": [
    {
     "data": {
      "text/plain": [
       "'Blue'"
      ]
     },
     "execution_count": 5,
     "metadata": {},
     "output_type": "execute_result"
    }
   ],
   "source": [
    "connection.blue_df.name"
   ]
  },
  {
   "cell_type": "code",
   "execution_count": null,
   "metadata": {},
   "outputs": [],
   "source": [
    "connection.blue_df.__name__"
   ]
  },
  {
   "cell_type": "code",
   "execution_count": null,
   "metadata": {},
   "outputs": [],
   "source": [
    "metadata = df.drop(['_id', 'text', 'spacy_chunks', 'spacy_ents', 'link', 'is article', 'post title'], axis=1)"
   ]
  },
  {
   "cell_type": "code",
   "execution_count": null,
   "metadata": {},
   "outputs": [],
   "source": [
    "metadata = metadata.to_dict(orient='records')"
   ]
  },
  {
   "cell_type": "code",
   "execution_count": null,
   "metadata": {},
   "outputs": [],
   "source": [
    "corpus = textacy.Corpus('en_core_web_lg', list(df.cleaned), metadatas=metadata)"
   ]
  },
  {
   "cell_type": "code",
   "execution_count": null,
   "metadata": {},
   "outputs": [],
   "source": [
    "doc = corpus[0]"
   ]
  },
  {
   "cell_type": "code",
   "execution_count": null,
   "metadata": {},
   "outputs": [],
   "source": [
    "stops = Stop_Handler()"
   ]
  },
  {
   "cell_type": "code",
   "execution_count": null,
   "metadata": {
    "scrolled": true
   },
   "outputs": [],
   "source": [
    "sorted(corpus.word_freqs(as_strings=True), key=corpus.word_freqs(as_strings=True).get, reverse=True)"
   ]
  },
  {
   "cell_type": "code",
   "execution_count": null,
   "metadata": {},
   "outputs": [],
   "source": [
    "stops.load()"
   ]
  },
  {
   "cell_type": "code",
   "execution_count": null,
   "metadata": {},
   "outputs": [],
   "source": [
    "nlp = spacy.load('en_core_web_lg')"
   ]
  },
  {
   "cell_type": "code",
   "execution_count": null,
   "metadata": {
    "scrolled": true
   },
   "outputs": [],
   "source": [
    "stops.spacy_adder('en_core_web_lg', verbose=True)"
   ]
  },
  {
   "cell_type": "code",
   "execution_count": null,
   "metadata": {},
   "outputs": [],
   "source": [
    "doc = nlp(df.cleaned[0])"
   ]
  },
  {
   "cell_type": "code",
   "execution_count": null,
   "metadata": {},
   "outputs": [],
   "source": [
    "sentence = list(doc.sents)[0]"
   ]
  },
  {
   "cell_type": "code",
   "execution_count": null,
   "metadata": {},
   "outputs": [],
   "source": [
    "displacy.render(doc, style='dep', jupyter=True)"
   ]
  },
  {
   "cell_type": "code",
   "execution_count": null,
   "metadata": {},
   "outputs": [],
   "source": [
    "for doc in corpus:\n",
    "    for word_list in doc.tokenized_text:\n",
    "        if \"Trump\" in word_list:\n",
    "            print(word_list)\n",
    "                "
   ]
  },
  {
   "cell_type": "code",
   "execution_count": null,
   "metadata": {},
   "outputs": [],
   "source": [
    "from Topic_Modeler import Topic_Modeler\n",
    "from collections import OrderedDict\n",
    "\n",
    "p.params.Query.Red_Blue_or_All = 'Red'\n",
    "p.params.Query.Time_Frame_in_Hours = 100\n",
    "topics = Topic_Modeler(connection.query_df, p.params)\n",
    "topics.topic_modeler()\n",
    "\n",
    "x = topics.model.top_topic_terms(topics.vectorizer.id_to_term, top_n=20, weights=True)\n",
    "\n",
    "topic_list = []\n",
    "for y in x:\n",
    "    topic_list.append(y[1])\n",
    "\n",
    "topic_list.sort(key=lambda dic: dic[0][1], reverse=True)\n",
    "\n",
    "topic_dict = OrderedDict()\n",
    "for x  in topic_list:\n",
    "    temp_list = []\n",
    "    for y in x:\n",
    "        temp_list.append(y)\n",
    "    \n",
    "    topic_dict[x[0][0]] = temp_list\n",
    "\n",
    "with open('data.json', 'w') as fp:\n",
    "    json.dump(topic_dict, fp, indent=1)"
   ]
  }
 ],
 "metadata": {
  "kernelspec": {
   "display_name": "Python 3",
   "language": "python",
   "name": "python3"
  },
  "language_info": {
   "codemirror_mode": {
    "name": "ipython",
    "version": 3
   },
   "file_extension": ".py",
   "mimetype": "text/x-python",
   "name": "python",
   "nbconvert_exporter": "python",
   "pygments_lexer": "ipython3",
   "version": "3.6.3"
  }
 },
 "nbformat": 4,
 "nbformat_minor": 2
}

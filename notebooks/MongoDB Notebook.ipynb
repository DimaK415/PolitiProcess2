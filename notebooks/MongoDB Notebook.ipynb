{
 "cells": [
  {
   "cell_type": "code",
   "execution_count": null,
   "metadata": {
    "scrolled": true
   },
   "outputs": [],
   "source": [
    "import glob\n",
    "import os\n",
    "import json\n",
    "from datetime import datetime\n",
    "from Mongo import Connect\n",
    "\n",
    "list_of_files = glob.glob('save/json/*')\n",
    "list_of_files.sort(key=os.path.getctime, reverse=True)\n",
    "list_of_files = list_of_files[:4]\n",
    "\n",
    "list_of_terms = []\n",
    "for file in list_of_files:\n",
    "    term_dict = json.load(open(file, \"r\"))\n",
    "    json.load(open(file, \"r\"))\n",
    "    term_dict['timestamp'] = datetime.fromtimestamp(os.path.getmtime(file))\n",
    "    if \"Blue\" in file:\n",
    "        term_dict['color'] = \"Blue\"\n",
    "    else:\n",
    "        term_dict['color'] = \"Red\"\n",
    "    list_of_terms.append(term_dict)\n",
    "\n",
    "mongo = Connect()\n",
    "client = mongo.client\n",
    "\n",
    "for entry in list_of_terms:\n",
    "    client.Politiprocess.terms.update_one({\"timestamp\": entry['timestamp']},{'$set': entry},\n",
    "                                          upsert=True, bypass_document_validation=True)"
   ]
  },
  {
   "cell_type": "code",
   "execution_count": null,
   "metadata": {},
   "outputs": [],
   "source": [
    "list_of_files = glob.glob('save/json/*')\n",
    "list_of_files.sort(key=os.path.getctime, reverse=True)\n",
    "list_of_files = list_of_files[:4]\n",
    "\n",
    "list_of_terms = []\n",
    "for file in list_of_files:\n",
    "    term_dict = json.load(open(file, \"r\"))\n",
    "    json.load(open(file, \"r\"))\n",
    "    term_dict['timestamp'] = datetime.fromtimestamp(os.path.getmtime(file))\n",
    "    if \"Blue\" in file:\n",
    "        term_dict['color'] = \"Blue\"\n",
    "    else:\n",
    "        term_dict['color'] = \"Red\"\n",
    "    list_of_terms.append(term_dict)\n",
    "\n",
    "log = Parameters()\n",
    "log.loader('log/mongo.log', default=True)\n",
    "\n",
    "log.loaded.MONGOLOG.Date    = time_stamp\n",
    "log.loaded.MONGOLOG.Added   = self.added_count\n",
    "log.loaded.MONGOLOG.Total   = new_count\n",
    "\n",
    "log.writer('log/scraper.log', log.loaded, append=True)"
   ]
  },
  {
   "cell_type": "code",
   "execution_count": null,
   "metadata": {},
   "outputs": [],
   "source": [
    "for entry in list_of_terms:\n",
    "    client.Politiprocess.terms.update_one({\"timestamp\": entry['timestamp']},{'$set': entry}, upsert=True, bypass_document_validation=True)"
   ]
  },
  {
   "cell_type": "code",
   "execution_count": null,
   "metadata": {
    "scrolled": false
   },
   "outputs": [],
   "source": [
    "list_of_terms"
   ]
  },
  {
   "cell_type": "code",
   "execution_count": 11,
   "metadata": {},
   "outputs": [
    {
     "name": "stdout",
     "output_type": "stream",
     "text": [
      "save/json/50_cnt_Blue_05_09_18_13_01.json   2018-05-09 20:36:17\n",
      "save/json/50_cnt_Red_05_09_18_13_01.json   2018-05-09 20:36:17\n",
      "save/json/50_cnt_Blue_05_07_18_13_01.json   2018-05-09 20:28:03\n",
      "save/json/50_cnt_Red_05_07_18_13_01.json   2018-05-09 20:25:06\n"
     ]
    }
   ],
   "source": [
    "import glob\n",
    "import os\n",
    "import json\n",
    "from datetime import datetime\n",
    "\n",
    "from Mongo import Connect\n",
    "from Paramerator import Parameters\n",
    "\n",
    "list_of_files = glob.glob('save/json/*')\n",
    "list_of_files.sort(key=os.path.getctime, reverse=True)\n",
    "list_of_files = list_of_files[:4]\n",
    "\n",
    "list_of_terms = []\n",
    "for file in list_of_files:\n",
    "    term_dict = json.load(open(file, \"r\"))\n",
    "    json.load(open(file, \"r\"))\n",
    "    term_dict['timestamp'] = datetime.fromtimestamp(os.path.getctime(file))\n",
    "\n",
    "    if \"Blue\" in file:\n",
    "        term_dict['color'] = \"Blue\"\n",
    "    else:\n",
    "        term_dict['color'] = \"Red\"\n",
    "    list_of_terms.append(term_dict)\n",
    "\n",
    "mongo = Connect()\n",
    "client = mongo.client\n",
    "\n",
    "collection = client.Politiprocess.terms\n",
    "\n",
    "start_count = collection.count()\n",
    "\n",
    "for entry in list_of_terms:\n",
    "    client.Politiprocess.terms.update_one({\"timestamp\": entry['timestamp']},{'$set': entry},\n",
    "                                          upsert=True, bypass_document_validation=True)\n",
    "\n",
    "end_count = collection.count()\n",
    "\n",
    "added_count = end_count - start_count\n",
    "\n",
    "log = Parameters()\n",
    "log.loader('log/JSON.log', default=True)\n",
    "\n",
    "log.loaded.JSONLOG.Date    = datetime.ctime(datetime.now())\n",
    "log.loaded.JSONLOG.Added   = added_count\n",
    "log.loaded.JSONLOG.Total   = end_count\n",
    "\n",
    "log.writer('log/scraper.log', log.loaded, append=True)"
   ]
  }
 ],
 "metadata": {
  "kernelspec": {
   "display_name": "Python 3",
   "language": "python",
   "name": "python3"
  },
  "language_info": {
   "codemirror_mode": {
    "name": "ipython",
    "version": 3
   },
   "file_extension": ".py",
   "mimetype": "text/x-python",
   "name": "python",
   "nbconvert_exporter": "python",
   "pygments_lexer": "ipython3",
   "version": "3.6.3"
  }
 },
 "nbformat": 4,
 "nbformat_minor": 2
}

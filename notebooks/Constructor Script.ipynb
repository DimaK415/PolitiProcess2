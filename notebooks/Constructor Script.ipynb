{
 "cells": [
  {
   "cell_type": "code",
   "execution_count": 1,
   "metadata": {},
   "outputs": [],
   "source": [
    "import sys\n",
    "sys.path.append('/home/jovyan/Politiprocess Dev/Politiprocess2/politiprocess')"
   ]
  },
  {
   "cell_type": "code",
   "execution_count": 2,
   "metadata": {
    "scrolled": false
   },
   "outputs": [],
   "source": [
    "from Scraper import Scraper\n",
    "from Mongo import Connect\n",
    "from Stop_Handler import Stop_Handler\n",
    "from Processing import Processing\n",
    "from Paramerator import Parameters\n",
    "import spacy"
   ]
  },
  {
   "cell_type": "code",
   "execution_count": 3,
   "metadata": {},
   "outputs": [],
   "source": [
    "p = Parameters()"
   ]
  },
  {
   "cell_type": "code",
   "execution_count": 4,
   "metadata": {
    "scrolled": true
   },
   "outputs": [
    {
     "name": "stdout",
     "output_type": "stream",
     "text": [
      "\"politiprocess/save/params/default.params\" not found.  Generate from default?1\n",
      "Found Default \"politiprocess/save/params/default.params\". Generate?1\n",
      "Completed writing ['Query', 'Pre_Processing', 'Spacy_Params', 'TFIDF_Params', 'Decomposition_Params', 'Visualizer'] to 'politiprocess/save/params/default.params'.\n"
     ]
    }
   ],
   "source": [
    "p.loader('politiprocess/save/params/default.params', 'params')\n",
    "p.loader('politiprocess/dat/scraper.cfg', 'scraper')\n",
    "p.loader('politiprocess/dat/mongo.cfg', 'mongo_cfg')"
   ]
  },
  {
   "cell_type": "code",
   "execution_count": null,
   "metadata": {},
   "outputs": [],
   "source": []
  },
  {
   "cell_type": "code",
   "execution_count": 6,
   "metadata": {},
   "outputs": [],
   "source": [
    "scraper = Scraper(p.scraper)\n",
    "scraper.settings.Reddit_Params.Scraper_Depth_Limit = 2"
   ]
  },
  {
   "cell_type": "code",
   "execution_count": 7,
   "metadata": {
    "scrolled": false
   },
   "outputs": [
    {
     "name": "stderr",
     "output_type": "stream",
     "text": [
      "\r",
      "0it [00:00, ?it/s]"
     ]
    },
    {
     "name": "stdout",
     "output_type": "stream",
     "text": [
      "Starting Scraper\n",
      "Pulling Articles\n"
     ]
    },
    {
     "name": "stderr",
     "output_type": "stream",
     "text": [
      "2it [00:12,  6.19s/it]\n",
      "1it [00:03,  3.04s/it]\n",
      "2it [00:02,  1.49s/it]\n",
      "1it [00:02,  2.75s/it]"
     ]
    },
    {
     "name": "stdout",
     "output_type": "stream",
     "text": [
      "Generating DataFrame\n",
      "Completed writing ['SCRAPERLOG'] to 'politiprocess/log/scraper.log'.\n",
      "Completed writing ['Set_Local', 'Reddit_Params', 'Article'] to 'politiprocess/log/scraper.log'.\n"
     ]
    },
    {
     "name": "stderr",
     "output_type": "stream",
     "text": [
      "\n"
     ]
    }
   ],
   "source": [
    "scraper.run()"
   ]
  },
  {
   "cell_type": "code",
   "execution_count": 8,
   "metadata": {},
   "outputs": [],
   "source": [
    "processor = Processing(p.params)"
   ]
  },
  {
   "cell_type": "code",
   "execution_count": 9,
   "metadata": {
    "scrolled": true
   },
   "outputs": [
    {
     "name": "stderr",
     "output_type": "stream",
     "text": [
      "100%|██████████| 6/6 [00:00<00:00, 1262.77it/s]\n"
     ]
    }
   ],
   "source": [
    "processor.pre_processor(scraper.scraper_df)"
   ]
  },
  {
   "cell_type": "code",
   "execution_count": 10,
   "metadata": {},
   "outputs": [],
   "source": [
    "processor.settings.Spacy_Params.Spacy_Model = 'en_core_web_lg'"
   ]
  },
  {
   "cell_type": "code",
   "execution_count": 11,
   "metadata": {
    "scrolled": true
   },
   "outputs": [
    {
     "name": "stdout",
     "output_type": "stream",
     "text": [
      "Filtering stops and words shorter than 4 letters. \n",
      "Chunking and identifying ['PERSON', 'GPE', 'ORG', 'NORP'] entities from cleaned corpus.\n",
      "Loading Spacy Model en_core_web_lg.  This could take a while...\n",
      "Complete\n",
      "Loading 454 stop words from ['## Common ##', '## Media ##']\n",
      "Loading Spacy Model en_core_web_lg.  This could take a while...\n",
      "Complete\n"
     ]
    },
    {
     "name": "stderr",
     "output_type": "stream",
     "text": [
      "\r",
      "  0%|          | 0/6 [00:00<?, ?it/s]"
     ]
    },
    {
     "name": "stdout",
     "output_type": "stream",
     "text": [
      "Complete. There are 454 stop words in the list.\n"
     ]
    },
    {
     "name": "stderr",
     "output_type": "stream",
     "text": [
      "100%|██████████| 6/6 [00:01<00:00,  3.52it/s]\n"
     ]
    },
    {
     "name": "stdout",
     "output_type": "stream",
     "text": [
      "Done inserting 381 chunks and\n",
      "                  96 entities into df.chunks and df.ents.\n"
     ]
    }
   ],
   "source": [
    "processor.spacy_processor(scraper.scraper_df)"
   ]
  },
  {
   "cell_type": "code",
   "execution_count": 12,
   "metadata": {},
   "outputs": [],
   "source": [
    "mongo = Connect(p.params, p.mongo_cfg)"
   ]
  },
  {
   "cell_type": "code",
   "execution_count": 14,
   "metadata": {
    "scrolled": false
   },
   "outputs": [
    {
     "name": "stderr",
     "output_type": "stream",
     "text": [
      "100%|██████████| 6/6 [00:00<00:00, 18.40it/s]\n"
     ]
    },
    {
     "name": "stdout",
     "output_type": "stream",
     "text": [
      "Added 4 Entries to Database\n",
      "Completed writing ['MONGOLOG'] to 'politiprocess/log/scraper.log'.\n"
     ]
    }
   ],
   "source": [
    "mongo.update_from_df(scraper.scraper_df)"
   ]
  },
  {
   "cell_type": "code",
   "execution_count": null,
   "metadata": {},
   "outputs": [],
   "source": [
    "import sys\n",
    "from PyQt5 import QtWidgets\n",
    "\n",
    "def main():\n",
    "    app = QtWidgets.QApplication(sys.argv)\n",
    "    window = QtWidgets.QMainWindow()\n",
    "    button = QtWidgets.QPushButton(\"Hello, PyQt!\")\n",
    "    window.setCentralWidget(button)\n",
    "    window.show()\n",
    "    app.exec_()\n",
    "\n",
    "if __name__ == '__main__':\n",
    "    main()"
   ]
  }
 ],
 "metadata": {
  "kernelspec": {
   "display_name": "Python 3",
   "language": "python",
   "name": "python3"
  },
  "language_info": {
   "codemirror_mode": {
    "name": "ipython",
    "version": 3
   },
   "file_extension": ".py",
   "mimetype": "text/x-python",
   "name": "python",
   "nbconvert_exporter": "python",
   "pygments_lexer": "ipython3",
   "version": "3.6.3"
  }
 },
 "nbformat": 4,
 "nbformat_minor": 2
}

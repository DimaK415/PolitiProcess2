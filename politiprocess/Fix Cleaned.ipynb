{
 "cells": [
  {
   "cell_type": "code",
   "execution_count": 12,
   "metadata": {
    "scrolled": true
   },
   "outputs": [],
   "source": [
    "import cupy.cuda\n",
    "import numpy as np\n",
    "import pandas as pd\n",
    "import spacy\n",
    "from spacy import displacy\n",
    "\n",
    "from Mongo import Connect\n",
    "from Processing import Processing\n",
    "from Paramerator import Parameters"
   ]
  },
  {
   "cell_type": "markdown",
   "metadata": {},
   "source": [
    "## Get Articles\n",
    "Using my Mongo Library"
   ]
  },
  {
   "cell_type": "code",
   "execution_count": 2,
   "metadata": {
    "scrolled": true
   },
   "outputs": [],
   "source": [
    "mongo = Connect()"
   ]
  },
  {
   "cell_type": "code",
   "execution_count": 3,
   "metadata": {},
   "outputs": [],
   "source": [
    "mongo.load_all()"
   ]
  },
  {
   "cell_type": "code",
   "execution_count": 68,
   "metadata": {
    "scrolled": true
   },
   "outputs": [],
   "source": [
    "df = mongo.query_df[mongo.query_df['is article'] == 1]"
   ]
  },
  {
   "cell_type": "code",
   "execution_count": 69,
   "metadata": {},
   "outputs": [],
   "source": [
    "p = Parameters()"
   ]
  },
  {
   "cell_type": "code",
   "execution_count": 70,
   "metadata": {},
   "outputs": [],
   "source": [
    "p.loader('dat/scraper.cfg', 'scraper')"
   ]
  },
  {
   "cell_type": "code",
   "execution_count": 71,
   "metadata": {},
   "outputs": [
    {
     "data": {
      "text/plain": [
       "param(Fix_Unicode=True, All_Lowercase=False, Remove_Newline=True, Remove_Punctuation=False, Remove_Contradictions=True, Remove_Emails=True, Remove_Accents=True, Replace_Currency=True, Remove_Extras=True, Extras=['-', '·', '\"', \"'\", '–', '..', '(', ')', '——', '—', '°', '[', ']', ':', ';', '_', '  ', '   '])"
      ]
     },
     "execution_count": 71,
     "metadata": {},
     "output_type": "execute_result"
    }
   ],
   "source": [
    "p.scraper.Pre_Processing"
   ]
  },
  {
   "cell_type": "code",
   "execution_count": 72,
   "metadata": {},
   "outputs": [],
   "source": [
    "processing = Processing(p.scraper)"
   ]
  },
  {
   "cell_type": "code",
   "execution_count": 73,
   "metadata": {},
   "outputs": [],
   "source": [
    "df = df.drop(['cleaned'], axis=1).reset_index(drop=True)"
   ]
  },
  {
   "cell_type": "code",
   "execution_count": 75,
   "metadata": {},
   "outputs": [],
   "source": [
    "processing.pre_processor(df)"
   ]
  },
  {
   "cell_type": "code",
   "execution_count": 82,
   "metadata": {},
   "outputs": [
    {
     "data": {
      "text/plain": [
       "['-',\n",
       " '·',\n",
       " '\"',\n",
       " \"'\",\n",
       " '–',\n",
       " '..',\n",
       " '(',\n",
       " ')',\n",
       " '——',\n",
       " '—',\n",
       " '°',\n",
       " '[',\n",
       " ']',\n",
       " ':',\n",
       " ';',\n",
       " '_',\n",
       " '  ',\n",
       " '   ']"
      ]
     },
     "execution_count": 82,
     "metadata": {},
     "output_type": "execute_result"
    }
   ],
   "source": [
    "processing.settings.Pre_Processing.Extras"
   ]
  },
  {
   "cell_type": "code",
   "execution_count": 77,
   "metadata": {},
   "outputs": [
    {
     "data": {
      "text/plain": [
       "'Tennessee has done the right thing by defunding abortion conglomerate Planned Parenthood and other abortion facilities. According to Live Action, Tennessee Governor Bill Haslam signed a bill this week and will now request a federal waiver which allows them to bar TennCare, Tennessees Medicaid program, from giving money to any abortion facility. The governor . deferred to the will of the legislature on this bill as amended, and after reviewing the bill in its final form decided to sign the bill into law, said Jennifer Donnals, Haslams press secretary. When the bill passed the state legislature back in March, Rep. Jimmy Matlock RLenoir City pointed out that the state has effectively given the abortion giant nearly USD1 million in just six years. Funds that were once directed toward abortions will now be given to other health care providers, which obliterates the oftrepeated protests from Planned Parenthood that women will die unless they are given federal funds. We have dozens of other medical clinics, said Sen. Mike Bell, the bills sponsor. This is not a cut. It is the policy of the state to favor childbirth as an integral part of the health and the welfare of the state. Any facility can receive its funding again if it agrees to quit providing abortions. This bill is a statement, Bell said. Its a statement from this legislative body. Its a statement from the people of Tennessee that we want our money to stop going to providers that perform elective abortions. So, what does Planned Parenthood have to say about all this? Let us take a guess WOMEN ARE GOING TO DIE! This hurts patients. It prevents them from seeing a healthcare provider they choose. Specifically, in our area, reproductive healthcare is difficult to access for some people, said Sarah Wallet, the Medical Director for Planned Parenthood of Greater Memphis. Theres a lot of stigma surrounding reproductive healthcare. Wallet made sure to add this little addendum This will especially hurt women of color. And everybody knows how much Planned Parenthood just loves their women of color patients. The group Tennessee Advocates for Planned Parenthood released the following statement Tennessees Governor Bill Haslam signed HB 2251/SB 2148. Sponsored by Representative Jimmy Matlock RLoudon and Senator Mike Bell RCleveland, the bill threatens access to health care for Planned Parenthood patients who rely on TennCare Medicaid. Emboldened by the TrumpPence agenda, Tennessee politicians are recklessly asking the administration to willfully bend the rules to allow the state to illegally bar patients from Planned Parenthood. If the TrumpPence administration approves the waiver, TennCare patients could lose access to birth control, cancer screenings, and STI testing and treatment at Planned Parenthood health centers. This is a legislative overreach to impose personal beliefs on Tennesseans with a disregard for womens health and patients rights. This will hurt women, men, and teens in the Memphis region and have a disproportionate impact on women of color, said Ashley Coffield, CEO of Planned Parenthood Greater Memphis Region. Patients rely on Planned Parenthood health centers for providers they can access quickly who specialize in nonjudgmental reproductive health care. Governor Haslam and the General Assembly continue to demonstrate blatant disrespect and dismissal of patients rights, which further discriminates against women, people of color, and people with lowincomes. This pushes the harmful and extremist agenda set forth by the TrumpPence administration, said Francie Hunt, Executive Director of Tennessee Advocates for Planned Parenthood. Our state has refused to expand Medicaid, which caused 280,000 Tennesseans to go without health care, and we have the second highest amount of hospital closures in the nation. Now is the time to trust patients and provide them with as many qualified health care options as possible, rather than restrict access and limit providers. The signing of this bill comes a few weeks after the 72 vote against the Womens Health Equity Bill HB 2627/SB 2185, which would have proactively required coverage of contraception in a way that enshrined and expanded the Affordable Care Acts birth control benefit, and would have required coverage for womens preventive services.'"
      ]
     },
     "execution_count": 77,
     "metadata": {},
     "output_type": "execute_result"
    }
   ],
   "source": [
    "df.cleaned[0]"
   ]
  }
 ],
 "metadata": {
  "kernelspec": {
   "display_name": "Python 3",
   "language": "python",
   "name": "python3"
  },
  "language_info": {
   "codemirror_mode": {
    "name": "ipython",
    "version": 3
   },
   "file_extension": ".py",
   "mimetype": "text/x-python",
   "name": "python",
   "nbconvert_exporter": "python",
   "pygments_lexer": "ipython3",
   "version": "3.6.4"
  }
 },
 "nbformat": 4,
 "nbformat_minor": 2
}

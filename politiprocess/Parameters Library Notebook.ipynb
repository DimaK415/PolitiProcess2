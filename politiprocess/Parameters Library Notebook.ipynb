{
 "cells": [
  {
   "cell_type": "code",
   "execution_count": 75,
   "metadata": {},
   "outputs": [],
   "source": [
    "from pathlib import Path\n",
    "from ast import literal_eval\n",
    "from collections import namedtuple\n",
    "from collections import OrderedDict\n",
    "\n",
    "from dat import DEFAULTS\n",
    "\n",
    "\n",
    "class parameters:\n",
    "\n",
    "    def __init__(self, params=None):\n",
    "        \n",
    "        self.def_dict   = DEFAULTS.default_dict\n",
    "            \n",
    "    def param_writer(file, params, default_location= True, overwrite=False):\n",
    "        '''A writer definition for writing new param files and overwriting old ones.  USE WITH CAUTION!'''\n",
    "        \n",
    "        if Path(file).is_file():\n",
    "            overwrite = literal_eval(input(f'{file} already exists. Overwrite?  :'))\n",
    "            if overwrite:\n",
    "                pass\n",
    "            else:\n",
    "                file = input('/path/to/new.file :')\n",
    "        \n",
    "        with open(file, mode='w+') as writer:\n",
    "            \n",
    "            for key in params:\n",
    "                writer.writelines('\\n##' + '{}'.format(key) + '\\n')\n",
    "                for value in params[key]:\n",
    "                    \n",
    "                    writer.writelines('{:30}{}{}'.format(value, '= ', params[key][value]) + '\\n')\n",
    "            print(f\"Completed writing {list(params.keys())} to '{file}'.\")\n",
    "    \n",
    "    def param_loader(self, file):\n",
    "        '''A loader definition for loading script dependant parameters from file'''\n",
    "        \n",
    "        \n",
    "        if not Path(file).is_file():\n",
    "            response = literal_eval(input(f'\"{file}\" not found.  Would you like to attempt to generate a default?'))\n",
    "            if response:\n",
    "                for key in self.def_dict:\n",
    "                    if self.def_dict[key]['Default Path'] == file:\n",
    "                        response = literal_eval(input(f'Found Default \"{file}\". Generate?'))\n",
    "                        if response:\n",
    "                            self.param_writer(file, self.def_dict[key]['DAT'])\n",
    "            else:\n",
    "                pass\n",
    "        \n",
    "        params_dict = OrderedDict()\n",
    "        \n",
    "        with open(file, mode='r') as fileObj:\n",
    "        \n",
    "            for line in fileObj:\n",
    "                if not line:\n",
    "                    continue\n",
    "                line = line.strip()\n",
    "                key_value = line.split('=')\n",
    "                \n",
    "                if \"#\" in line:\n",
    "                    section = line[2:].replace(\" \", \"\")\n",
    "                    params_dict[section] = {}\n",
    "    \n",
    "                if len(key_value) == 2:\n",
    "                    key = key_value[0].strip().replace(\" \", \"\")\n",
    "                    value = key_value[1].strip()\n",
    "     \n",
    "                    if not value:\n",
    "                        value = input(f'Required parameter \"{key_value[0].strip()}\" is missing: ')\n",
    "                        while not value:\n",
    "                            value = input(f'You must enter a value for {key_value[0].strip()}: ')\n",
    "                    if \",\" in value:\n",
    "                        try:\n",
    "                            params_dict[section][key] = list(literal_eval(value))\n",
    "                        except:\n",
    "                            params_dict[section][key] = value.split(\", \")\n",
    "                    else:\n",
    "                        try:\n",
    "                            params_dict[section][key] = literal_eval(value)\n",
    "                        except:\n",
    "                            params_dict[section][key] = value\n",
    "        \n",
    "        for x in params_dict:\n",
    "            params_dict[x] = namedtuple('param', params_dict[x].keys())(**params_dict[x])\n",
    "        \n",
    "        param_nt = namedtuple('section', params_dict.keys())(**params_dict)\n",
    "        \n",
    "        return param_nt"
   ]
  },
  {
   "cell_type": "code",
   "execution_count": 76,
   "metadata": {},
   "outputs": [],
   "source": [
    "params = parameters()"
   ]
  },
  {
   "cell_type": "code",
   "execution_count": 77,
   "metadata": {},
   "outputs": [],
   "source": [
    "model_params = params.param_loader('params/current.params')"
   ]
  },
  {
   "cell_type": "code",
   "execution_count": 78,
   "metadata": {},
   "outputs": [
    {
     "data": {
      "text/plain": [
       "'nmf'"
      ]
     },
     "execution_count": 78,
     "metadata": {},
     "output_type": "execute_result"
    }
   ],
   "source": [
    "model_params.DecompositionParams.ModelType\n",
    "    "
   ]
  },
  {
   "cell_type": "code",
   "execution_count": 80,
   "metadata": {},
   "outputs": [
    {
     "name": "stdout",
     "output_type": "stream",
     "text": [
      "Required parameter \"host\" is missing: 1\n",
      "Required parameter \"port\" is missing: 1\n",
      "Required parameter \"db\" is missing: 1\n",
      "Required parameter \"collection\" is missing: 1\n"
     ]
    }
   ],
   "source": [
    "mongo = params.param_loader('dat/mongo.secret')"
   ]
  },
  {
   "cell_type": "code",
   "execution_count": 82,
   "metadata": {},
   "outputs": [
    {
     "data": {
      "text/plain": [
       "1"
      ]
     },
     "execution_count": 82,
     "metadata": {},
     "output_type": "execute_result"
    }
   ],
   "source": [
    "mongo.MongoDBServerParams.host"
   ]
  }
 ],
 "metadata": {
  "kernelspec": {
   "display_name": "Python 3",
   "language": "python",
   "name": "python3"
  },
  "language_info": {
   "codemirror_mode": {
    "name": "ipython",
    "version": 3
   },
   "file_extension": ".py",
   "mimetype": "text/x-python",
   "name": "python",
   "nbconvert_exporter": "python",
   "pygments_lexer": "ipython3",
   "version": "3.6.3"
  }
 },
 "nbformat": 4,
 "nbformat_minor": 2
}

{
 "cells": [
  {
   "cell_type": "code",
   "execution_count": 1,
   "metadata": {},
   "outputs": [],
   "source": [
    "from Paramerator import Parameters\n",
    "from Scraper import Scraper"
   ]
  },
  {
   "cell_type": "code",
   "execution_count": 2,
   "metadata": {},
   "outputs": [],
   "source": [
    "p = Parameters()"
   ]
  },
  {
   "cell_type": "code",
   "execution_count": 3,
   "metadata": {},
   "outputs": [
    {
     "name": "stdout",
     "output_type": "stream",
     "text": [
      "\"save/params/default.params\" not found.  Generate from default?1\n",
      "Found Default \"save/params/default.params\". Generate?1\n",
      "Completed writing ['Query', 'TFIDF_Params', 'Decomposition_Params', 'Visualizer'] to 'save/params/default.params'.\n"
     ]
    }
   ],
   "source": [
    "p.loader('save/params/default.params', 'params')"
   ]
  },
  {
   "cell_type": "code",
   "execution_count": 4,
   "metadata": {},
   "outputs": [
    {
     "data": {
      "text/plain": [
       "section(Query=param(Time_Frame_in_Hours=24, Red_Blue_or_All='All', Articles_Only=True), TFIDF_Params=param(Use_IDF=True, Normalize=False, Sublinear_TF=True, Smooth_IDF=False, Vocabulary=None, Min_DF=False, Max_DF=0.6, Min_IC=0.0, Max_Terms=False, Column_to_Vectorize='chunks_ents'), Decomposition_Params=param(Number_of_Topics=10, Model_Type='nmf'), Visualizer=param(Top_Terms_Per_Topic=10, Sort_Terms_By='seriation', Depth_of_Termite_Plot=50, Highlight=[0, 1, 2, 3, 4, 5], Save=True, Save_Directory='/Plots'))"
      ]
     },
     "execution_count": 4,
     "metadata": {},
     "output_type": "execute_result"
    }
   ],
   "source": [
    "p.params"
   ]
  },
  {
   "cell_type": "code",
   "execution_count": 5,
   "metadata": {
    "scrolled": true
   },
   "outputs": [
    {
     "name": "stdout",
     "output_type": "stream",
     "text": [
      "Completed writing ['Query', 'TFIDF_Params', 'Decomposition_Params', 'Visualizer'] to 'save/params/settings1.params'.\n"
     ]
    }
   ],
   "source": [
    "p.writer('save/params/settings1.params', p.params_dict)"
   ]
  },
  {
   "cell_type": "code",
   "execution_count": 6,
   "metadata": {},
   "outputs": [
    {
     "name": "stdout",
     "output_type": "stream",
     "text": [
      "\"dat/scraper.cfg\" not found.  Generate from default?1\n",
      "Found Default \"dat/scraper.cfg\". Generate?1\n",
      "Completed writing ['Options', 'Reddit_Params', 'Article', 'Pre_Processing', 'Spacy_Params'] to 'dat/scraper.cfg'.\n"
     ]
    }
   ],
   "source": [
    "p.loader('dat/scraper.cfg', 'scraper')"
   ]
  },
  {
   "cell_type": "code",
   "execution_count": 7,
   "metadata": {
    "scrolled": true
   },
   "outputs": [
    {
     "data": {
      "text/plain": [
       "section(Options=param(Set_Local=False, Upsert=True), Reddit_Params=param(Red_List=['conservative', 'republican'], Blue_List=['liberal', 'democrats'], Scraper_Depth_Limit=30), Article=param(None_Article_Links=['www.reddit.com', 'i.reddit.it']), Pre_Processing=param(Fix_Unicode=True, All_Lowercase=False, Remove_Newline=True, Remove_Punctuation=False, Remove_Contradictions=False, Remove_Emails=True, Remove_Accents=True, Replace_Currency=True), Spacy_Params=param(Spacy_Model='en', Min_Word_Length=2, Use_Cleaned_Text=1, Named_Entity_List=['PERSON', 'GPE', 'ORG', 'NORP'], Split_Columns=True, Fix_Stop=True))"
      ]
     },
     "execution_count": 7,
     "metadata": {},
     "output_type": "execute_result"
    }
   ],
   "source": [
    "p.scraper"
   ]
  },
  {
   "cell_type": "code",
   "execution_count": 8,
   "metadata": {},
   "outputs": [],
   "source": [
    "p.linker(p.scraper_dict, 'scraper')"
   ]
  }
 ],
 "metadata": {
  "kernelspec": {
   "display_name": "Python 3",
   "language": "python",
   "name": "python3"
  },
  "language_info": {
   "codemirror_mode": {
    "name": "ipython",
    "version": 3
   },
   "file_extension": ".py",
   "mimetype": "text/x-python",
   "name": "python",
   "nbconvert_exporter": "python",
   "pygments_lexer": "ipython3",
   "version": "3.6.3"
  }
 },
 "nbformat": 4,
 "nbformat_minor": 2
}

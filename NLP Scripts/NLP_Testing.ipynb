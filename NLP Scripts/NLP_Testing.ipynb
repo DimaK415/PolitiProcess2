{
 "cells": [
  {
   "cell_type": "code",
   "execution_count": 1,
   "metadata": {},
   "outputs": [],
   "source": [
    "# Library Imports\n",
    "\n",
    "# Standard Libraries \n",
    "import pandas as pd\n",
    "import numpy as np\n",
    "import re, string, timeit\n",
    "from datetime import datetime, timedelta\n",
    "\n",
    "import warnings\n",
    "warnings.filterwarnings('ignore')\n",
    "\n",
    "import matplotlib.pyplot as plt\n",
    "%matplotlib inline\n",
    "\n",
    "# MongoDB\n",
    "from pymongo import MongoClient"
   ]
  },
  {
   "cell_type": "markdown",
   "metadata": {},
   "source": [
    "## Import Parameters from Topic_Extractor_Params.dat"
   ]
  },
  {
   "cell_type": "code",
   "execution_count": 2,
   "metadata": {},
   "outputs": [],
   "source": [
    "import re, string\n",
    "\n",
    "def param_loader(file):\n",
    "    '''A loader definition for loading script dependant parameters'''\n",
    "    \n",
    "    fileObj = open(file, mode='r')\n",
    "\n",
    "    params = {}\n",
    "\n",
    "    for line in fileObj:\n",
    "        line = line.strip()\n",
    "        \n",
    "        key_value = line.split('=')\n",
    "        \n",
    "        if len(key_value) == 2:\n",
    "            params[key_value[0].strip()] = key_value[1].strip()\n",
    "            \n",
    "    return params\n",
    "\n",
    "def stop_loader(file, as_list=True):\n",
    "    '''A loader for loading a unicode file of stop words as dictionaries.\n",
    "    Keys are categories and Values are lists of terms'''\n",
    "    \n",
    "    fileObj = open(file, mode='r')\n",
    "    \n",
    "    vocab_dict = {}\n",
    "    vocab_list = []\n",
    "    current_key = \"\"\n",
    "    \n",
    "    for line in fileObj.read().split('\\n'):\n",
    "        \n",
    "        if not line:\n",
    "            continue\n",
    "            \n",
    "        if not line[0].isalpha():\n",
    "            vocab_list = []\n",
    "            vocab_dict[line] = []\n",
    "            current_key = str(line)\n",
    "        \n",
    "        if line[0].isalpha():\n",
    "            vocab_list.append(line)\n",
    "        \n",
    "        vocab_dict[current_key] = vocab_list\n",
    "        \n",
    "    if as_list:\n",
    "        vocab_list = []\n",
    "        for terms in vocab_dict.values():\n",
    "            vocab_list.extend(terms)\n",
    "        print(f\"Loading {len(vocab_list)} stop words from {list(vocab_dict.keys())}\")\n",
    "        return vocab_list\n",
    "    \n",
    "    return vocab_dict\n",
    "\n",
    "def stop_fixer(file, upper=True, no_punct=True, fix_in_place=False):\n",
    "    \n",
    "    '''Reads and parses *file* - Returns list of stops or (if fix_in_place) overwrites existing *file*\n",
    "    (if upper) adds capitlized version of stop words\n",
    "    (if no_punct) adds unpunctuated version of stop words'''\n",
    "    \n",
    "    vocab_dict = stop_loader('Stop_Words_List.dat', as_list = False)\n",
    "    \n",
    "    for key in vocab_dict:\n",
    "        if no_punct or upper:\n",
    "            for word in vocab_dict[key]:\n",
    "                if no_punct:\n",
    "                    word_punct = re.sub('[^A-Za-z0-9]+', '', word)\n",
    "                    if word_punct not in vocab_dict[key]:\n",
    "                        vocab_dict[key].append(word_punct)\n",
    "                \n",
    "                if upper:\n",
    "                    word_caps = word.capitalize()\n",
    "                    if word_caps not in vocab_dict[key]:\n",
    "                        vocab_dict[key].append(word_caps)\n",
    "    \n",
    "       \n",
    "        sorted(vocab_dict[key], key=str.lower)\n",
    "        vocab_dict[key] = sorted(vocab_dict[key], key=str.lower)\n",
    "        \n",
    "    if fix_in_place:\n",
    "        \n",
    "        writer = open(file, mode='w+')\n",
    "        \n",
    "        for key in vocab_dict:\n",
    "            writer.writelines('\\n' + key + '\\n')\n",
    "            for word in vocab_dict[key]:\n",
    "                writer.writelines(word  + '\\n')\n",
    "    else:        \n",
    "        return vocab_dict"
   ]
  },
  {
   "cell_type": "code",
   "execution_count": 3,
   "metadata": {},
   "outputs": [
    {
     "name": "stdout",
     "output_type": "stream",
     "text": [
      "Loading 454 stop words from ['## Common ##', '## Media ##']\n"
     ]
    }
   ],
   "source": [
    "## Assign Params from .dat ##\n",
    "\n",
    "topic_params =    param_loader('Topic_Extractor_Params.dat')\n",
    "mongo_params =    param_loader('../Scraper_Params.dat')\n",
    "\n",
    "## Cleaner Params ##\n",
    "\n",
    "fix_unicode       = bool(int(topic_params['Fix Unicode']))\n",
    "lowercase         = bool(int(topic_params['All Lowercase']))\n",
    "no_accents        = bool(int(topic_params['Remove Accents']))\n",
    "no_contradictions = bool(int(topic_params['Remove Contradictions']))\n",
    "no_emails         = bool(int(topic_params['Remove Emails']))\n",
    "no_newline        = bool(int(topic_params['Remove Newline']))\n",
    "no_punctuation    = bool(int(topic_params['Remove Punctuation']))\n",
    "no_currency       = bool(int(topic_params['Replace Currency']))\n",
    "\n",
    "## Stop Words ##\n",
    "\n",
    "stop_words_list = stop_loader('Stop_Words_List.dat')\n",
    "\n",
    "## Query Params ##\n",
    "\n",
    "n_hours           = int(topic_params['Time Frame in Hours'])\n",
    "red_or_blue       = str(topic_params['Red, Blue or All'])\n",
    "n_topics          = int(topic_params['Number of Topics'])\n",
    "model             = str(topic_params['Model'])\n",
    "\n",
    "## Spacy Params ##\n",
    "\n",
    "spacy_model       = str(topic_params['Spacy Model'])\n",
    "min_word_length   = int(topic_params['Min Word Length'])\n",
    "use_cleaned       = bool(int(topic_params['Use Cleaned Text']))\n",
    "split_columns     = bool(int(topic_params['Split Columns']))\n",
    "named_entities    = topic_params['Named Entity List'].split(' ')\n",
    "\n",
    "## Mongo Params ##\n",
    "\n",
    "mongo_host        = str(mongo_params['mongodb_host'])\n",
    "mongo_port        = int(mongo_params['mongodb_port'])\n",
    "\n",
    "## TFIDF Params ## \n",
    "\n",
    "column            = str(topic_params['Column to Vectorize'])\n",
    "normalize         = bool(int(topic_params['Normalize']))\n",
    "sublinear_tf      = bool(int(topic_params['Sublinear TF']))\n",
    "smooth_idf        = bool(int(topic_params['Smooth IDF']))\n",
    "vocabulary        = topic_params['Vocabulary']\n",
    "min_df            = float(topic_params['Min DF'])\n",
    "max_df            = float(topic_params['Max DF'])\n",
    "min_ic            = float(topic_params['Min IC'])\n",
    "\n",
    "if bool(int(topic_params['Use IDF'])):\n",
    "    weighting     = 'tfidf'\n",
    "else:\n",
    "    weighting     = 'tf'\n",
    "\n",
    "if topic_params['Max Terms'] == '0':\n",
    "    max_n_terms   = None\n",
    "else:\n",
    "    max_n_terms   = int(topic_params['Max Terms'])"
   ]
  },
  {
   "cell_type": "markdown",
   "metadata": {},
   "source": [
    "## Import Database from Mongo"
   ]
  },
  {
   "cell_type": "code",
   "execution_count": 13,
   "metadata": {},
   "outputs": [],
   "source": [
    "def mongo_query():\n",
    "    \n",
    "    client = MongoClient(host=mongo_host, port=mongo_port)\n",
    "    \n",
    "    db = client.Politiprocess\n",
    "    \n",
    "    collection = db.reddit_posts\n",
    "    \n",
    "    query = {'is article': True}\n",
    "    \n",
    "    if n_hours == 0:\n",
    "        print(f\"Pulling all articles from {red_or_blue} targets.\")\n",
    "    else:\n",
    "        print(f\"Pulling {red_or_blue} articles from last {n_hours} hours.\")\n",
    "        dt = datetime.utcnow() - timedelta(hours=n_hours)\n",
    "        query['date'] = {'$gt': dt}\n",
    "    \n",
    "    if red_or_blue == 'Red':\n",
    "        query['target'] = True\n",
    "        \n",
    "    elif red_or_blue == 'Blue':\n",
    "        query['is article'] = False\n",
    "        \n",
    "    else:\n",
    "        pass\n",
    "    \n",
    "    df = pd.DataFrame(list(collection.find(query)))\n",
    "    \n",
    "    print(f'''Completed pulling {len(df)} articles.\n",
    "    Latest article is from {collection.find_one(sort=[('date', -1)])['date']} UTC''')\n",
    "    \n",
    "    return df"
   ]
  },
  {
   "cell_type": "code",
   "execution_count": 14,
   "metadata": {},
   "outputs": [
    {
     "name": "stdout",
     "output_type": "stream",
     "text": [
      "Pulling Red articles from last 24 hours.\n",
      "Completed pulling 51 articles.\n",
      "    Latest article is from 2018-04-20 19:05:47 UTC\n"
     ]
    }
   ],
   "source": [
    "df = mongo_query()"
   ]
  },
  {
   "cell_type": "markdown",
   "metadata": {},
   "source": [
    "## Preprocessing"
   ]
  },
  {
   "cell_type": "code",
   "execution_count": 15,
   "metadata": {},
   "outputs": [],
   "source": [
    "import textacy\n",
    "import spacy"
   ]
  },
  {
   "cell_type": "code",
   "execution_count": 16,
   "metadata": {
    "scrolled": true
   },
   "outputs": [],
   "source": [
    "cleaned = [] \n",
    "for x in range(len(df)):\n",
    "    text = textacy.preprocess.preprocess_text(df.text[x],\n",
    "                                        fix_unicode=fix_unicode,\n",
    "                                        lowercase=lowercase,\n",
    "                                        no_punct=no_punctuation,\n",
    "                                        no_contractions=no_contradictions,\n",
    "                                        no_currency_symbols=no_currency,\n",
    "                                        no_emails=no_emails,\n",
    "                                        no_accents=no_accents)\n",
    "    if no_newline:\n",
    "        text = text.replace('\\n', ' ') \n",
    "    \n",
    "    cleaned.append(text)\n",
    "\n",
    "df['cleaned'] = cleaned\n",
    "del cleaned"
   ]
  },
  {
   "cell_type": "code",
   "execution_count": 58,
   "metadata": {},
   "outputs": [
    {
     "name": "stdout",
     "output_type": "stream",
     "text": [
      "Loading Spacy Model en_core_web_md.  This could take a while...\n",
      "Complete\n"
     ]
    }
   ],
   "source": [
    "print(f\"Loading Spacy Model {spacy_model}.  This could take a while...\")\n",
    "\n",
    "nlp = spacy.load(spacy_model)\n",
    "\n",
    "print(\"Complete\")"
   ]
  },
  {
   "cell_type": "code",
   "execution_count": 84,
   "metadata": {
    "scrolled": true
   },
   "outputs": [
    {
     "name": "stdout",
     "output_type": "stream",
     "text": [
      "Adding 454 custom stop words to Spacy Model en_core_web_md.\n",
      "Complete. There are 639 stop words in the list.\n"
     ]
    }
   ],
   "source": [
    "print(f\"Adding {len(stop_words_list)} custom stop words to Spacy Model {spacy_model}.\")\n",
    "\n",
    "from spacy.lang.en.stop_words import STOP_WORDS\n",
    "\n",
    "for stopword in stop_words_list:\n",
    "    STOP_WORDS.add(stopword)\n",
    "    \n",
    "nlp.vocab.add_flag(lambda s: s.lower() in spacy.lang.en.stop_words.STOP_WORDS, spacy.attrs.IS_STOP) ## Workaround for spacy bug ##\n",
    "    \n",
    "print(f\"Complete. There are {len(STOP_WORDS)} stop words in the list.\")"
   ]
  },
  {
   "cell_type": "code",
   "execution_count": 88,
   "metadata": {
    "scrolled": true
   },
   "outputs": [
    {
     "name": "stdout",
     "output_type": "stream",
     "text": [
      "Filtering stops and words shorter than 3 letters. \n",
      "Chunking and identifying ['PERSON', 'GPE', 'ORG', 'NORP'] entities from cleaned corpus.\n",
      "Done inserting 10004 chunks and entities into df.chunks_ents.)\n"
     ]
    }
   ],
   "source": [
    "def spacy_processing(use_cleaned, split_columns):  \n",
    "    \n",
    "    if use_cleaned:\n",
    "        corpus    = 'cleaned'\n",
    "        df_column = 'cleaned'\n",
    "    else:\n",
    "        corpus    = 'raw'\n",
    "        df_column = 'text'   \n",
    "    \n",
    "    print(f'''Filtering stops and words shorter than {min_word_length + 1} letters. \n",
    "Chunking and identifying {named_entities} entities from {corpus} corpus.''')    \n",
    "    \n",
    "    chunks_list = []\n",
    "    ents_list   = []\n",
    "    \n",
    "    for text in df[df_column]:\n",
    "        \n",
    "        doc = nlp(str(text))\n",
    "        \n",
    "        chunks = []\n",
    "        ents   = []\n",
    "        \n",
    "        for span in doc.noun_chunks:\n",
    "            if len(span) == 1:\n",
    "                if span[0].is_stop or len(span[0]) <= min_word_length:\n",
    "                    continue\n",
    "                else:\n",
    "                    chunks.append(span.text)\n",
    "                    continue\n",
    "            else:\n",
    "                chunks.append(span.text)\n",
    "        \n",
    "        for ent in doc.ents:\n",
    "            if ent.label_ in named_entities:\n",
    "                ents.append(ent.text)\n",
    "                \n",
    "        chunks_list.append(chunks)\n",
    "        ents_list.append(ents)\n",
    "    \n",
    "    if split_columns:\n",
    "        df['chunks'], df['ents'] = chunks_list, ents_list\n",
    "        del chunks_list, ents_list\n",
    "        print(f\"Done inserting {len(df.chunks.sum())} chunks and {len(df.ents.sum())} entities into df.chunks and df.ents.\")\n",
    "    else:\n",
    "        joined_list = [a + b for a, b in zip(chunks_list, ents_list)]\n",
    "        del chunks_list, ents_list\n",
    "        df['chunks_ents'] = joined_list\n",
    "        del joined_list\n",
    "        print(f\"Done inserting {len(df.chunks_ents.sum())} chunks and entities into df.chunks_ents.)\")\n",
    "    \n",
    "spacy_processing(use_cleaned, split_columns)"
   ]
  },
  {
   "cell_type": "code",
   "execution_count": 89,
   "metadata": {},
   "outputs": [
    {
     "name": "stdout",
     "output_type": "stream",
     "text": [
      "Loading Vectorizer Paramaters\n"
     ]
    }
   ],
   "source": [
    "print(f\"Loading Vectorizer Paramaters\")\n",
    "vocabulary=None\n",
    "vectorizer = textacy.vsm.Vectorizer(weighting, normalize, sublinear_tf,\n",
    "                                    smooth_idf, vocabulary, min_df, max_df,\n",
    "                                    min_ic, max_n_terms)"
   ]
  },
  {
   "cell_type": "code",
   "execution_count": 90,
   "metadata": {
    "scrolled": true
   },
   "outputs": [
    {
     "name": "stdout",
     "output_type": "stream",
     "text": [
      "Fitting Vectorizor on chunks_ents column\n"
     ]
    }
   ],
   "source": [
    "print(f\"Fitting Vectorizor on {column} column\")\n",
    "doc_term_matrix = vectorizer.fit_transform(df[column])"
   ]
  },
  {
   "cell_type": "code",
   "execution_count": 95,
   "metadata": {
    "scrolled": false
   },
   "outputs": [
    {
     "name": "stdout",
     "output_type": "stream",
     "text": [
      "topic 0 : Hatfill   Weissman   Mueller   Fitzgerald   Berger   AIPAC   Libby   Stevens   Enron   the bureau\n",
      "topic 1 : Holder   Mexico   Eric Holder   Mexican   Dodson   Brian Terry   ATF   Fox News   Cuba   New Hampshire\n",
      "topic 2 : abortion   an abortion   victims   murder   Welch   Williamson   Kevin Williamson   women   the procedure   a movement\n",
      "topic 3 : Comey   CNN   Clapper   Russia   Trump   the dossier   FBI   Congress   the media   the memos\n",
      "topic 4 : Minhas   Pakistan   Imran   Awans   Imran Awan   the Awans   Rehman Malik   Haji   USB   Pakistani\n",
      "topic 5 : Cohen   Hannity   Broidy   Sean Hannity   Ryan   the names   federal prosecutors   Judge Wood   Mr. Broidy   wrongdoing\n",
      "topic 6 : Barber   Krasinski   guns   the Democrat Party   Willis   A Quiet Place   Nicholas Barber   movies   the left   arms\n",
      "topic 7 : McCarthy   Ryan   GOP   the Freedom Caucus   Scalise   Jim Jordan   the base   House   Congress   the GOP majority\n",
      "topic 8 : Venezuela   Maduro   Venezuelans   Caracas   Venezuelan   protesters   the Maduro regime   crime   gun prohibition   Vincent Harinam\n",
      "topic 9 : Moon   North Korea   South Korea   Kim   Seoul   Pyongyang   Kim Jong Un   South Korean   talks   North\n"
     ]
    },
    {
     "data": {
      "text/plain": [
       "<matplotlib.axes._subplots.AxesSubplot at 0x7ff4eeda11d0>"
      ]
     },
     "execution_count": 95,
     "metadata": {},
     "output_type": "execute_result"
    },
    {
     "data": {
      "image/png": "[encoded data removed]",
      "text/plain": [
       "<matplotlib.figure.Figure at 0x7ff4ee9cbd30>"
      ]
     },
     "metadata": {},
     "output_type": "display_data"
    }
   ],
   "source": [
    "model = textacy.tm.TopicModel('nmf', n_topics=10)\n",
    "model.fit(doc_term_matrix)\n",
    "\n",
    "\n",
    "topics_string = \"\"\n",
    "\n",
    "for topic_idx, top_terms in model.top_topic_terms(vectorizer.id_to_term, top_n=10):\n",
    "    topics_string += ' '.join(top_terms) + ' '\n",
    "    print('topic', topic_idx, ':', '   '.join(top_terms))\n",
    "\n",
    "    \n",
    "model.termite_plot(doc_term_matrix, vectorizer.id_to_term, highlight_topics=[1,3,5,7,9],\n",
    "                   topics=-1,  n_terms=50, sort_terms_by='seriation')"
   ]
  },
  {
   "cell_type": "code",
   "execution_count": null,
   "metadata": {},
   "outputs": [],
   "source": [
    "from wordcloud import WordCloud"
   ]
  },
  {
   "cell_type": "code",
   "execution_count": null,
   "metadata": {},
   "outputs": [],
   "source": [
    "topics_string"
   ]
  },
  {
   "cell_type": "code",
   "execution_count": null,
   "metadata": {},
   "outputs": [],
   "source": [
    "wordcloud = WordCloud().generate(topics_string)"
   ]
  },
  {
   "cell_type": "code",
   "execution_count": null,
   "metadata": {
    "scrolled": true
   },
   "outputs": [],
   "source": [
    "wordcloud = WordCloud(max_font_size=80, width = 800, height=400).generate(topics_string)\n",
    "plt.figure(figsize=(12,6))\n",
    "plt.imshow(wordcloud, interpolation=\"bicubic\")\n",
    "plt.axis(\"off\")\n",
    "plt.show()"
   ]
  },
  {
   "cell_type": "code",
   "execution_count": null,
   "metadata": {},
   "outputs": [],
   "source": [
    "len(vectorizer.id_to_term)"
   ]
  },
  {
   "cell_type": "code",
   "execution_count": null,
   "metadata": {},
   "outputs": [],
   "source": [
    "model.termite_plot(doc_term_matrix, vectorizer.id_to_term, highlight_topics=[0,1,2,3,4],\n",
    "                   topics=-1,  n_terms=40, sort_terms_by='seriation')"
   ]
  },
  {
   "cell_type": "code",
   "execution_count": null,
   "metadata": {},
   "outputs": [],
   "source": [
    "for ent in doc.ents:\n",
    "    print(ent.text, ent.start_char, ent.end_char, ent.label_)"
   ]
  },
  {
   "cell_type": "code",
   "execution_count": null,
   "metadata": {},
   "outputs": [],
   "source": [
    "for x in doc:\n",
    "    x.ent_iob_"
   ]
  },
  {
   "cell_type": "code",
   "execution_count": null,
   "metadata": {},
   "outputs": [],
   "source": [
    "for x in doc:\n",
    "    print()"
   ]
  },
  {
   "cell_type": "code",
   "execution_count": null,
   "metadata": {},
   "outputs": [],
   "source": [
    "STOP_WORDS"
   ]
  },
  {
   "cell_type": "code",
   "execution_count": null,
   "metadata": {},
   "outputs": [],
   "source": [
    "for x in doc.noun_chunks:\n",
    "    if x.text.lower() not in STOP_WORDS:\n",
    "        print(x)"
   ]
  },
  {
   "cell_type": "code",
   "execution_count": null,
   "metadata": {},
   "outputs": [],
   "source": [
    "texts = [] \n",
    "for x in range(len(df)):\n",
    "    texts.append(textacy.preprocess.preprocess_text(df.text[x],\n",
    "                                                    fix_unicode=False,\n",
    "                                                    lowercase=True,\n",
    "                                                    no_punct=True,\n",
    "                                                    no_contractions=True,\n",
    "                                                    no_currency_symbols=True,\n",
    "                                                    no_emails=True,\n",
    "                                                    no_accents=True,\n",
    "                                                   ))\n",
    "\n",
    "df.cleaned = texts\n",
    "texts = []"
   ]
  },
  {
   "cell_type": "code",
   "execution_count": null,
   "metadata": {},
   "outputs": [],
   "source": [
    "from sklearn.feature_extraction import text\n",
    "\n",
    "stop_words = text.ENGLISH_STOP_WORDS.union([\"device medium caption\", \n",
    "                                            \"medium\", \"caption\", \n",
    "                                            \"playback\", \"unsupported\",\n",
    "                                            \"said\", \" 's\", \"'s\",\"\", \" \", \"  \",\"''\", \"week\"])"
   ]
  },
  {
   "cell_type": "code",
   "execution_count": null,
   "metadata": {},
   "outputs": [],
   "source": [
    "for term in stop_words:\n",
    "    STOP_WORDS.add(term)"
   ]
  },
  {
   "cell_type": "code",
   "execution_count": null,
   "metadata": {},
   "outputs": [],
   "source": [
    "corpus = textacy.corpus.Corpus(lang='en', texts=list(df.cleaned))"
   ]
  },
  {
   "cell_type": "code",
   "execution_count": null,
   "metadata": {},
   "outputs": [],
   "source": [
    "for x in corpus[0].tokens:\n",
    "    print(x.is_stop)"
   ]
  },
  {
   "cell_type": "code",
   "execution_count": null,
   "metadata": {},
   "outputs": [],
   "source": [
    "terms_list = (docs.to_terms_list(ngrams=(1,2,3), named_entities=False, as_strings=True, filter_stops=True, filter_punct=True) for docs in corpus)"
   ]
  },
  {
   "cell_type": "code",
   "execution_count": null,
   "metadata": {},
   "outputs": [],
   "source": [
    "vectorizer = textacy.vsm.Vectorizer(weighting='tfidf', normalize=False, smooth_idf=True, \n",
    "                        min_df=.01, max_df=.99, max_n_terms=None)\n",
    "\n",
    "doc_term_matrix = vectorizer.fit_transform(terms_list)\n",
    "doc_term_matrix.shape"
   ]
  },
  {
   "cell_type": "code",
   "execution_count": null,
   "metadata": {
    "scrolled": true
   },
   "outputs": [],
   "source": [
    "model = textacy.tm.TopicModel('nmf', n_topics=10)\n",
    "model.fit(doc_term_matrix)\n",
    "\n",
    "for topic_idx, top_terms in model.top_topic_terms(vectorizer.id_to_term, top_n=10):\n",
    "    print(top_terms)"
   ]
  },
  {
   "cell_type": "code",
   "execution_count": null,
   "metadata": {},
   "outputs": [],
   "source": [
    "model.termite_plot(doc_term_matrix, vectorizer.id_to_term, highlight_topics=[0,1,2,3,4,5],\n",
    "                   topics=-1,  n_terms=100, sort_terms_by='seriation')"
   ]
  },
  {
   "cell_type": "code",
   "execution_count": null,
   "metadata": {
    "scrolled": true
   },
   "outputs": [],
   "source": [
    "tfidf_vectorizer = TfidfVectorizer(ngram_range = (1,3), min_df = 2, stop_words = stop_words, max_features=None)"
   ]
  },
  {
   "cell_type": "code",
   "execution_count": null,
   "metadata": {},
   "outputs": [],
   "source": [
    "document_term_matrix_sps = tfidf_vectorizer.fit_transform(df['cleaned'])"
   ]
  },
  {
   "cell_type": "code",
   "execution_count": null,
   "metadata": {},
   "outputs": [],
   "source": [
    "document_term_matrix_df = pd.DataFrame(document_term_matrix_sps.toarray(),\n",
    "                                       index=df.index,\n",
    "                                       columns=tfidf_vectorizer.get_feature_names())"
   ]
  },
  {
   "cell_type": "code",
   "execution_count": null,
   "metadata": {},
   "outputs": [],
   "source": [
    "len(tfidf_vectorizer.get_feature_names())"
   ]
  },
  {
   "cell_type": "code",
   "execution_count": null,
   "metadata": {},
   "outputs": [],
   "source": []
  },
  {
   "cell_type": "markdown",
   "metadata": {},
   "source": [
    "## LDA"
   ]
  },
  {
   "cell_type": "code",
   "execution_count": null,
   "metadata": {},
   "outputs": [],
   "source": [
    "from sklearn.decomposition import LatentDirichletAllocation"
   ]
  },
  {
   "cell_type": "code",
   "execution_count": null,
   "metadata": {},
   "outputs": [],
   "source": [
    "lda = LatentDirichletAllocation(n_components=20, n_jobs=-1, max_iter=10, learning_method='batch')"
   ]
  },
  {
   "cell_type": "code",
   "execution_count": null,
   "metadata": {
    "scrolled": true
   },
   "outputs": [],
   "source": [
    "lda_matrix = lda.fit_transform(document_term_matrix_df)"
   ]
  },
  {
   "cell_type": "code",
   "execution_count": null,
   "metadata": {},
   "outputs": [],
   "source": [
    "def print_top_words(model, feature_names, n_top_words):\n",
    "    for topic_idx, topic in enumerate(model.components_):\n",
    "        message = \"Topic #%d: \" % topic_idx\n",
    "        message += \" \".join([feature_names[i]\n",
    "                             for i in topic.argsort()[:-n_top_words - 1:-1]])\n",
    "        print(message)\n",
    "    print()"
   ]
  },
  {
   "cell_type": "code",
   "execution_count": null,
   "metadata": {},
   "outputs": [],
   "source": [
    "print_top_words(lda, tfidf_vectorizer.get_feature_names(), 10)"
   ]
  },
  {
   "cell_type": "markdown",
   "metadata": {},
   "source": [
    "## LSA"
   ]
  },
  {
   "cell_type": "code",
   "execution_count": null,
   "metadata": {},
   "outputs": [],
   "source": [
    "n_components = 10\n",
    "SVD = TruncatedSVD(n_components)\n",
    "component_names = [\"component_\"+str(i+1) for i in range(n_components)]"
   ]
  },
  {
   "cell_type": "code",
   "execution_count": null,
   "metadata": {},
   "outputs": [],
   "source": [
    "svd_matrix = SVD.fit_transform(document_term_matrix_df)"
   ]
  },
  {
   "cell_type": "code",
   "execution_count": null,
   "metadata": {},
   "outputs": [],
   "source": [
    "latent_semantic_analysis = pd.DataFrame(svd_matrix,\n",
    "                                        index=document_term_matrix_df.index,\n",
    "                                        columns=component_names)"
   ]
  },
  {
   "cell_type": "code",
   "execution_count": null,
   "metadata": {
    "scrolled": true
   },
   "outputs": [],
   "source": [
    "latent_semantic_analysis"
   ]
  },
  {
   "cell_type": "code",
   "execution_count": null,
   "metadata": {},
   "outputs": [],
   "source": [
    "vocabulary_loadings = pd.DataFrame(SVD.components_,\n",
    "                                   index=component_names,\n",
    "                                   columns=tfidf_vectorizer.get_feature_names()).T"
   ]
  },
  {
   "cell_type": "code",
   "execution_count": null,
   "metadata": {},
   "outputs": [],
   "source": [
    "vocabulary_loadings.sort_values('component_5', 0, ascending=False)"
   ]
  },
  {
   "cell_type": "code",
   "execution_count": null,
   "metadata": {
    "scrolled": true
   },
   "outputs": [],
   "source": [
    "for component in vocabulary_loadings:\n",
    "    print(component + ' - ' + vocabulary_loadings[component].idxmax())"
   ]
  },
  {
   "cell_type": "code",
   "execution_count": null,
   "metadata": {},
   "outputs": [],
   "source": [
    "n_components = 100\n",
    "X = list(range(5, n_components))\n",
    "e_v_s = []\n",
    "\n",
    "tfidf_vectorizer = TfidfVectorizer(min_df = 5, stop_words = stop_words)\n",
    "document_term_matrix_sps = tfidf_vectorizer.fit_transform(df['cleaned'])\n",
    "\n",
    "for x in range(5,n_components):\n",
    "    n_components = x\n",
    "    SVD = TruncatedSVD(n_components)\n",
    "    svd_matrix = SVD.fit_transform(document_term_matrix_df)\n",
    "    e_v_s.append(SVD.explained_variance_ratio_.sum())\n",
    "    \n",
    "plt.plot(X, e_v_s)"
   ]
  },
  {
   "cell_type": "code",
   "execution_count": null,
   "metadata": {},
   "outputs": [],
   "source": [
    "from sklearn.model_selection import train_test_split, cross_val_score, cross_val_predict\n",
    "from sklearn.neighbors import KNeighborsClassifier\n",
    "from sklearn.linear_model import LogisticRegression"
   ]
  },
  {
   "cell_type": "code",
   "execution_count": null,
   "metadata": {},
   "outputs": [],
   "source": [
    "X = latent_semantic_analysis.drop('target', axis=1)\n",
    "y = latent_semantic_analysis['target']\n",
    "X_train, X_test, y_train, y_test = train_test_split(X,\n",
    "                                                    y,\n",
    "                                                    test_size = .1,)"
   ]
  },
  {
   "cell_type": "code",
   "execution_count": null,
   "metadata": {},
   "outputs": [],
   "source": [
    "ks = list(range(1,25))\n",
    "train_accuracies = []\n",
    "test_accuracies = []\n",
    "\n",
    "for k in ks:\n",
    "    knc = KNeighborsClassifier(n_neighbors=k, n_jobs = -1)\n",
    "    knc.fit(X_train, y_train)\n",
    "    train_score = knc.score(X_train, y_train)\n",
    "    test_score = knc.score(X_test, y_test)\n",
    "    train_accuracies.append(train_score)\n",
    "    test_accuracies.append(test_score)"
   ]
  },
  {
   "cell_type": "code",
   "execution_count": null,
   "metadata": {
    "scrolled": false
   },
   "outputs": [],
   "source": [
    "plt.plot(ks, train_accuracies, c='g', label='train')\n",
    "plt.plot(ks, test_accuracies, c='b', label='test')\n",
    "plt.axvline(np.argmax(test_accuracies)+1, label='optimal_k')\n",
    "plt.legend()"
   ]
  },
  {
   "cell_type": "code",
   "execution_count": null,
   "metadata": {},
   "outputs": [],
   "source": [
    "knc = KNeighborsClassifier(n_neighbors=np.argmax(test_accuracies)+1, n_jobs = -1)\n",
    "knc.fit(X_train, y_train)\n",
    "train_score = knc.score(X_train, y_train)\n",
    "test_score = knc.score(X_test, y_test)\n",
    "print(train_score, test_score)"
   ]
  },
  {
   "cell_type": "markdown",
   "metadata": {},
   "source": [
    "## Logistic Regression"
   ]
  },
  {
   "cell_type": "code",
   "execution_count": null,
   "metadata": {
    "scrolled": true
   },
   "outputs": [],
   "source": [
    "log = LogisticRegression(C=100)\n",
    "log.fit(X_train,y_train)"
   ]
  },
  {
   "cell_type": "code",
   "execution_count": null,
   "metadata": {
    "scrolled": true
   },
   "outputs": [],
   "source": [
    "log.score(X_train,y_train), log.score(X_test,y_test)"
   ]
  },
  {
   "cell_type": "code",
   "execution_count": null,
   "metadata": {},
   "outputs": [],
   "source": []
  },
  {
   "cell_type": "markdown",
   "metadata": {},
   "source": [
    "# Spacy"
   ]
  },
  {
   "cell_type": "code",
   "execution_count": null,
   "metadata": {
    "scrolled": true
   },
   "outputs": [],
   "source": [
    "doc = nlp(article_title_list[0])\n",
    "doc.is_parsed"
   ]
  },
  {
   "cell_type": "code",
   "execution_count": null,
   "metadata": {},
   "outputs": [],
   "source": [
    "import spacy\n",
    "from collections import Counter\n",
    "nlp = spacy.load('en')\n",
    "\n",
    "# all tokens that arent stop words or punctuations\n",
    "words = [token.text for token in self.doc if token.is_stop != True and token.is_punct != True]\n",
    "\n",
    "# noun tokens that arent stop words or punctuations\n",
    "nouns = [token.text for token in self.doc if token.is_stop != True and token.is_punct != True and token.pos_ == \"NOUN\"]\n",
    "\n",
    "# five most common tokens\n",
    "word_freq = Counter(words)\n",
    "common_words = word_freq.most_common(5)\n",
    "\n",
    "# five most common noun tokens\n",
    "noun_freq = Counter(nouns)\n",
    "common_nouns = noun_freq.most_common(5)"
   ]
  },
  {
   "cell_type": "code",
   "execution_count": null,
   "metadata": {},
   "outputs": [],
   "source": [
    "# all tokens that arent stop words or punctuations\n",
    "words = [token.text for token in doc if token.is_stop != True and token.is_punct != True]"
   ]
  },
  {
   "cell_type": "code",
   "execution_count": null,
   "metadata": {},
   "outputs": [],
   "source": [
    "words"
   ]
  },
  {
   "cell_type": "code",
   "execution_count": null,
   "metadata": {},
   "outputs": [],
   "source": [
    "# noun tokens that arent stop words or punctuations\n",
    "nouns = [token.text for token in self.doc if token.is_stop != True and token.is_punct != True and token.pos_ == \"NOUN\"]"
   ]
  },
  {
   "cell_type": "code",
   "execution_count": null,
   "metadata": {},
   "outputs": [],
   "source": [
    "for x in doc.doc:\n",
    "    print(x)"
   ]
  },
  {
   "cell_type": "code",
   "execution_count": null,
   "metadata": {},
   "outputs": [],
   "source": []
  },
  {
   "cell_type": "code",
   "execution_count": null,
   "metadata": {
    "scrolled": true
   },
   "outputs": [],
   "source": [
    "num = 0\n",
    "# doc = nlp(article_text_list[0])\n",
    "for num, entity in enumerate(doc.ents):\n",
    "    print(f'Entity {num + 1}', entity, '-', entity.label_)"
   ]
  },
  {
   "cell_type": "code",
   "execution_count": null,
   "metadata": {},
   "outputs": [],
   "source": [
    "def punct_space(token):\n",
    "    return token.is_punct or token.is_space\n",
    "\n",
    "def article_reader(df):\n",
    "    for article in df.cleaned:\n",
    "        yield article.replace(\"\\n\\n\", \"\\n\")\n",
    "\n",
    "def lemmatized_sentence_corpus(document):\n",
    "    for parsed_article in nlp.pipe(document, batch_size = 100000, n_threads = 4):\n",
    "        \n",
    "        for sent in parsed_article.sents:\n",
    "            yield ' '.join([token.lemma_ for token in sent if not punct_space(token)])"
   ]
  },
  {
   "cell_type": "code",
   "execution_count": null,
   "metadata": {
    "scrolled": true
   },
   "outputs": [],
   "source": [
    "for sent in lemmatized_sentence_corpus(article_reader(df)):\n",
    "    print(sent)"
   ]
  },
  {
   "cell_type": "markdown",
   "metadata": {},
   "source": [
    "# Textacy"
   ]
  },
  {
   "cell_type": "code",
   "execution_count": null,
   "metadata": {},
   "outputs": [],
   "source": [
    "import spacy\n",
    "import textacy\n",
    "from spacy import displacy"
   ]
  },
  {
   "cell_type": "code",
   "execution_count": null,
   "metadata": {},
   "outputs": [],
   "source": [
    "df = list(collection.find({'is article': True}, {'_id': 0, 'comments':0}))"
   ]
  },
  {
   "cell_type": "code",
   "execution_count": null,
   "metadata": {},
   "outputs": [],
   "source": [
    "texts = []\n",
    "metadatas = [] \n",
    "for x in range(len(df)):\n",
    "    texts.append(textacy.preprocess.preprocess_text(df[x].pop('text'),\n",
    "                                                    fix_unicode=True,\n",
    "                                                    no_contractions=True,\n",
    "                                                    no_currency_symbols=True,\n",
    "                                                    no_emails=True,\n",
    "                                                    no_numbers=True,\n",
    "                                                   ))\n",
    "    metadatas.append(df[x])\n",
    "df = []"
   ]
  },
  {
   "cell_type": "code",
   "execution_count": null,
   "metadata": {},
   "outputs": [],
   "source": [
    "corpus = textacy.corpus.Corpus(lang='en', texts=texts, metadatas=metadatas)"
   ]
  },
  {
   "cell_type": "code",
   "execution_count": null,
   "metadata": {},
   "outputs": [],
   "source": [
    "nlp = spacy.load(name='en')"
   ]
  },
  {
   "cell_type": "code",
   "execution_count": null,
   "metadata": {},
   "outputs": [],
   "source": [
    "doc = corpus[1]"
   ]
  },
  {
   "cell_type": "code",
   "execution_count": null,
   "metadata": {},
   "outputs": [],
   "source": [
    "doc_nlp = nlp(doc.text)"
   ]
  },
  {
   "cell_type": "code",
   "execution_count": null,
   "metadata": {
    "scrolled": false
   },
   "outputs": [],
   "source": [
    "displacy.render(doc_nlp, style='ent', jupyter=True)"
   ]
  },
  {
   "cell_type": "code",
   "execution_count": null,
   "metadata": {},
   "outputs": [],
   "source": [
    "terms_list = (docs.to_terms_list(ngrams=3, normalize='lemma', lemmatize=True,\n",
    "                                 named_entities=True, as_strings=True, filter_stops=True)for docs in corpus)"
   ]
  },
  {
   "cell_type": "code",
   "execution_count": null,
   "metadata": {},
   "outputs": [],
   "source": [
    "terms_list"
   ]
  },
  {
   "cell_type": "code",
   "execution_count": null,
   "metadata": {},
   "outputs": [],
   "source": [
    "vectorizer = textacy.vsm.Vectorizer(weighting='tfidf', normalize=False, smooth_idf=True, \n",
    "                        min_df=.01, max_df=.99, max_n_terms=1000)\n",
    "\n",
    "doc_term_matrix = vectorizer.fit_transform(terms_list)"
   ]
  },
  {
   "cell_type": "code",
   "execution_count": null,
   "metadata": {},
   "outputs": [],
   "source": [
    "from sklearn.decomposition import NMF"
   ]
  },
  {
   "cell_type": "code",
   "execution_count": null,
   "metadata": {},
   "outputs": [],
   "source": [
    "vectorizer.id_to_term"
   ]
  },
  {
   "cell_type": "code",
   "execution_count": null,
   "metadata": {
    "scrolled": false
   },
   "outputs": [],
   "source": [
    "model = textacy.tm.TopicModel('nmf', n_topics=5)\n",
    "model.fit(doc_term_matrix)\n",
    "\n",
    "for topic_idx, top_terms in model.top_topic_terms(vectorizer.id_to_term, top_n=10):\n",
    "    print('topic', topic_idx, ':', '   '.join(top_terms))"
   ]
  },
  {
   "cell_type": "code",
   "execution_count": null,
   "metadata": {},
   "outputs": [],
   "source": [
    "model.termite_plot(vocabulary_loadings, vectorizer.id_to_term, highlight_topics=[0,1,2,3,4,5],\n",
    "                   topics=-1,  n_terms=100, sort_terms_by='seriation')"
   ]
  },
  {
   "cell_type": "markdown",
   "metadata": {},
   "source": [
    "## Gensim"
   ]
  },
  {
   "cell_type": "code",
   "execution_count": null,
   "metadata": {},
   "outputs": [],
   "source": [
    "stopWords = set(stopwords.words('english'))"
   ]
  },
  {
   "cell_type": "code",
   "execution_count": null,
   "metadata": {},
   "outputs": [],
   "source": [
    "corpus = "
   ]
  },
  {
   "cell_type": "code",
   "execution_count": null,
   "metadata": {},
   "outputs": [],
   "source": [
    "tfidf = models.TfidfModel(corpus)"
   ]
  },
  {
   "cell_type": "markdown",
   "metadata": {},
   "source": [
    "# TextBlob"
   ]
  },
  {
   "cell_type": "code",
   "execution_count": null,
   "metadata": {
    "scrolled": true
   },
   "outputs": [],
   "source": [
    "for article_title in df['article title']:\n",
    "    print(article_title, TextBlob(article_title).sentiment, TextBlob(article_title).np_counts)"
   ]
  },
  {
   "cell_type": "code",
   "execution_count": null,
   "metadata": {},
   "outputs": [],
   "source": [
    "all_titles = \"\"\n",
    "for article_title in df['article title']:\n",
    "    all_titles += '. ' + article_title"
   ]
  },
  {
   "cell_type": "code",
   "execution_count": null,
   "metadata": {},
   "outputs": [],
   "source": [
    "all_titles"
   ]
  },
  {
   "cell_type": "code",
   "execution_count": null,
   "metadata": {
    "scrolled": true
   },
   "outputs": [],
   "source": [
    "article_title = TextBlob(df['article title'][1])\n",
    "article_title"
   ]
  },
  {
   "cell_type": "code",
   "execution_count": null,
   "metadata": {},
   "outputs": [],
   "source": [
    "all_titles_blob = TextBlob(all_titles)"
   ]
  },
  {
   "cell_type": "code",
   "execution_count": null,
   "metadata": {},
   "outputs": [],
   "source": [
    "for sentence in all_titles_blob.sentences:\n",
    "    print(sentence, sentence.np_counts, sentence.sentiment)"
   ]
  },
  {
   "cell_type": "code",
   "execution_count": null,
   "metadata": {},
   "outputs": [],
   "source": [
    "for text in red_topic_list['post title']:\n",
    "    blob = TextBlob(text)\n",
    "    print(text, blob.sentiment_assessments, \"\\n\")"
   ]
  },
  {
   "cell_type": "code",
   "execution_count": null,
   "metadata": {},
   "outputs": [],
   "source": [
    "# NLP Libraries\n",
    "from nltk.corpus import stopwords\n",
    "\n",
    "import textacy\n",
    "\n",
    "import spacy\n",
    "\n",
    "from textblob import TextBlob\n",
    "\n",
    "from gensim.corpora import Dictionary, MmCorpus\n",
    "from gensim.models.ldamulticore import LdaMulticore"
   ]
  },
  {
   "cell_type": "code",
   "execution_count": null,
   "metadata": {},
   "outputs": [],
   "source": [
    "# Visualization\n",
    "import matplotlib.pyplot as plt\n",
    "from spacy import displacy\n",
    "import pyLDAvis\n",
    "import pyLDAvis.gensim\n",
    "import warnings\n",
    "\n",
    "%matplotlib inline"
   ]
  }
 ],
 "metadata": {
  "kernelspec": {
   "display_name": "Python 3",
   "language": "python",
   "name": "python3"
  },
  "language_info": {
   "codemirror_mode": {
    "name": "ipython",
    "version": 3
   },
   "file_extension": ".py",
   "mimetype": "text/x-python",
   "name": "python",
   "nbconvert_exporter": "python",
   "pygments_lexer": "ipython3",
   "version": "3.6.3"
  }
 },
 "nbformat": 4,
 "nbformat_minor": 2
}

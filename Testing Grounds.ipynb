{
 "cells": [
  {
   "cell_type": "code",
   "execution_count": 3,
   "metadata": {},
   "outputs": [],
   "source": [
    "import sys, os\n",
    "sys.path.append('/Users/o19mobile/Politiprocess Dev/Politiprocess2/politiprocess')\n",
    "\n",
    "# os.chdir('politiprocess')"
   ]
  },
  {
   "cell_type": "code",
   "execution_count": 4,
   "metadata": {},
   "outputs": [
    {
     "ename": "ModuleNotFoundError",
     "evalue": "No module named 'Paramerator'",
     "output_type": "error",
     "traceback": [
      "\u001b[0;31m---------------------------------------------------------------------------\u001b[0m",
      "\u001b[0;31mModuleNotFoundError\u001b[0m                       Traceback (most recent call last)",
      "\u001b[0;32m<ipython-input-4-5babc2f53c58>\u001b[0m in \u001b[0;36m<module>\u001b[0;34m()\u001b[0m\n\u001b[0;32m----> 1\u001b[0;31m \u001b[0;32mfrom\u001b[0m \u001b[0mParamerator\u001b[0m \u001b[0;32mimport\u001b[0m \u001b[0mParameters\u001b[0m\u001b[0;34m\u001b[0m\u001b[0m\n\u001b[0m\u001b[1;32m      2\u001b[0m \u001b[0mp\u001b[0m \u001b[0;34m=\u001b[0m \u001b[0mParameters\u001b[0m\u001b[0;34m(\u001b[0m\u001b[0;34m)\u001b[0m\u001b[0;34m\u001b[0m\u001b[0m\n\u001b[1;32m      3\u001b[0m \u001b[0mp\u001b[0m\u001b[0;34m.\u001b[0m\u001b[0mloader\u001b[0m\u001b[0;34m(\u001b[0m\u001b[0;34m'save/params/default.params'\u001b[0m\u001b[0;34m,\u001b[0m \u001b[0;34m'params'\u001b[0m\u001b[0;34m,\u001b[0m \u001b[0mas_dict\u001b[0m\u001b[0;34m=\u001b[0m\u001b[0;32mFalse\u001b[0m\u001b[0;34m,\u001b[0m \u001b[0mdefault\u001b[0m\u001b[0;34m=\u001b[0m\u001b[0;32mFalse\u001b[0m\u001b[0;34m)\u001b[0m\u001b[0;34m\u001b[0m\u001b[0m\n",
      "\u001b[0;31mModuleNotFoundError\u001b[0m: No module named 'Paramerator'"
     ]
    }
   ],
   "source": [
    "from Paramerator import Parameters\n",
    "p = Parameters()\n",
    "p.loader('save/params/default.params', 'params', as_dict=False, default=False)"
   ]
  },
  {
   "cell_type": "code",
   "execution_count": 14,
   "metadata": {},
   "outputs": [
    {
     "data": {
      "text/plain": [
       "dict_items([('Query', {'Time_Frame_in_Hours': 24, 'Red_Blue_or_All': 'All', 'Articles_Only': True}), ('Pre_Processing', {'Fix_Unicode': 1, 'All_Lowercase': 0, 'Remove_Newline': 1, 'Remove_Punctuation': 0, 'Remove_Contradictions': 0, 'Remove_Emails': 1, 'Remove_Accents': 1, 'Replace_Currency': 1}), ('Spacy_Params', {'Spacy_Model': 'en', 'Min_Word_Length': 2, 'Use_Cleaned_Text': 1, 'Named_Entity_List': ['PERSON', 'GPE', 'ORG', 'NORP'], 'Split_Columns': True, 'Fix_Stop': True}), ('TFIDF_Params', {'Use_IDF': True, 'Normalize': False, 'Sublinear_TF': True, 'Smooth_IDF': False, 'Vocabulary': None, 'Min_DF': False, 'Max_DF': 0.6, 'Min_IC': 0.0, 'Max_Terms': False, 'Column_to_Vectorize': 'chunks_ents'}), ('Decomposition_Params', {'Number_of_Topics': 10, 'Model_Type': 'nmf'}), ('Visualizer', {'Top_Terms_Per_Topic': 10, 'Sort_Terms_By': 'seriation', 'Depth_of_Termite_Plot': 50, 'Highlight': [0, 1, 2, 3, 4, 5], 'Save': True, 'Save_Directory': '/Plots'})])"
      ]
     },
     "execution_count": 14,
     "metadata": {},
     "output_type": "execute_result"
    }
   ],
   "source": [
    "p._params_dict.items()"
   ]
  },
  {
   "cell_type": "code",
   "execution_count": null,
   "metadata": {},
   "outputs": [],
   "source": [
    "p.loader('dat/mongo.cg', 'mongo', default=True)"
   ]
  },
  {
   "cell_type": "code",
   "execution_count": null,
   "metadata": {},
   "outputs": [],
   "source": []
  },
  {
   "cell_type": "code",
   "execution_count": null,
   "metadata": {},
   "outputs": [],
   "source": []
  },
  {
   "cell_type": "code",
   "execution_count": null,
   "metadata": {},
   "outputs": [],
   "source": []
  }
 ],
 "metadata": {
  "kernelspec": {
   "display_name": "Python 3",
   "language": "python",
   "name": "python3"
  },
  "language_info": {
   "codemirror_mode": {
    "name": "ipython",
    "version": 3
   },
   "file_extension": ".py",
   "mimetype": "text/x-python",
   "name": "python",
   "nbconvert_exporter": "python",
   "pygments_lexer": "ipython3",
   "version": "3.6.3"
  }
 },
 "nbformat": 4,
 "nbformat_minor": 2
}
